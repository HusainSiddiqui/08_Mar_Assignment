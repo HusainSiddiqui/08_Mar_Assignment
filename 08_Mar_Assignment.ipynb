{
 "cells": [
  {
   "cell_type": "markdown",
   "metadata": {},
   "source": [
    "Q1. What is the Probability density function?"
   ]
  },
  {
   "cell_type": "markdown",
   "metadata": {},
   "source": [
    "Probability density function are used to describe the Probability distribution of continuos random variable\n",
    "It is also use calculate statics measure such as means,variance of continuos random variable"
   ]
  },
  {
   "cell_type": "markdown",
   "metadata": {},
   "source": [
    "Q2. What are the types of Probability distribution?"
   ]
  },
  {
   "cell_type": "markdown",
   "metadata": {},
   "source": [
    "1. Normal distribution\n",
    "2. Binomial distribution\n",
    "3. Poisson distribution\n",
    "4. Uniform distribution\n",
    "5. Uniform distribution\n",
    "6. Log Normal distribution "
   ]
  },
  {
   "cell_type": "markdown",
   "metadata": {},
   "source": [
    "Q3. Write a Python function to calculate the probability density function of a normal distribution with\n",
    "given mean and standard deviation at a given point."
   ]
  },
  {
   "cell_type": "code",
   "execution_count": 1,
   "metadata": {},
   "outputs": [
    {
     "data": {
      "text/plain": [
       "<Figure size 640x480 with 1 Axes>"
      ]
     },
     "metadata": {},
     "output_type": "display_data"
    }
   ],
   "source": [
    "import math\n",
    "import numpy as np\n",
    "import matplotlib.pyplot as plt\n",
    "from scipy.stats import norm\n",
    "\n",
    "def normal_pdf(x, mean=0, std=1):\n",
    "    return (1 / (std * math.sqrt(2 * math.pi))) * math.exp(-(x - mean)**2 / (2 * std**2))\n",
    "\n",
    "# Define the mean and standard deviation\n",
    "mean = 0\n",
    "std = 1\n",
    "\n",
    "# Define the x values\n",
    "x = np.linspace(-5, 5, num=1000)\n",
    "\n",
    "# Calculate the PDF values for each x value\n",
    "pdf = list(map(lambda x: normal_pdf(x, mean, std), x))\n",
    "\n",
    "# Plot the PDF\n",
    "plt.plot(x, pdf)\n",
    "plt.title('PDF of a Normal Distribution')\n",
    "plt.xlabel('x')\n",
    "plt.ylabel('PDF(x)')\n",
    "plt.show()\n"
   ]
  },
  {
   "cell_type": "markdown",
   "metadata": {},
   "source": [
    "Q4. What are the properties of Binomial distribution? Give two examples of events where binomial\n",
    "distribution can be applied."
   ]
  },
  {
   "cell_type": "markdown",
   "metadata": {},
   "source": [
    "Properties of Binomial distribution are:\n",
    "\n",
    "1. The experiment consists of a fixed number of trials, denoted as n.\n",
    "2. Each trial has only two possible outcomes: success (S) or failure (F).\n",
    "3. The probability of success, denoted as p, remains constant from trial to trial.\n",
    "4. The trials are independent, meaning that the outcome of one trial does not affect the outcome of another.\n",
    "\n",
    "Two examples of events where binomial distribution can be applied are:\n",
    "\n",
    "1. Flipping a coin: \n",
    "    When flipping a coin, the only possible outcomes are heads (success) or tails (failure). \n",
    "    The probability of getting heads remains constant at 0.5 for each flip, and \n",
    "    each flip is independent of the previous ones. \n",
    "    Therefore, the number of heads in a fixed number of flips, say 10, can be modeled using a binomial distribution.\n",
    "\n",
    "2. Medical trials: \n",
    "    In medical trials, a drug is given to a certain number of patients, and \n",
    "    the number of patients who show improvement is recorded. \n",
    "    If the probability of improvement for each patient is constant, and \n",
    "    the patients are independent of each other, \n",
    "    then the number of patients who improve can be modeled using a binomial distribution."
   ]
  },
  {
   "cell_type": "markdown",
   "metadata": {},
   "source": [
    "Q5. Generate a random sample of size 1000 from a binomial distribution with probability of success 0.4\n",
    "and plot a histogram of the results using matplotlib."
   ]
  },
  {
   "cell_type": "code",
   "execution_count": 2,
   "metadata": {},
   "outputs": [
    {
     "data": {
      "image/png": "[encoded data removed]",
      "text/plain": [
       "<Figure size 432x288 with 1 Axes>"
      ]
     },
     "metadata": {
      "needs_background": "light"
     },
     "output_type": "display_data"
    }
   ],
   "source": [
    "import numpy as np\n",
    "import matplotlib.pyplot as plt\n",
    "\n",
    "# Define the parameters of the binomial distribution\n",
    "n = 10\n",
    "p = 0.4\n",
    "\n",
    "# Generate a random sample of size 1000 from the binomial distribution\n",
    "sample = np.random.binomial(n, p, size=1000)\n",
    "\n",
    "# Plot a histogram of the sample\n",
    "plt.hist(sample,edgecolor='black')#, bins=range(0, n+2), align='left', edgecolor='black')\n",
    "plt.xlabel('Number of successes')\n",
    "plt.ylabel('Frequency')\n",
    "plt.title('Histogram of a Binomial Distribution (n=10, p=0.4)')\n",
    "plt.show()"
   ]
  },
  {
   "cell_type": "markdown",
   "metadata": {},
   "source": [
    "Q6. Write a Python function to calculate the cumulative distribution function of a Poisson distribution\n",
    "with given mean at a given point."
   ]
  },
  {
   "cell_type": "code",
   "execution_count": 3,
   "metadata": {},
   "outputs": [
    {
     "name": "stdout",
     "output_type": "stream",
     "text": [
      "The CDF of a Poisson distribution with mean 3 at point 5 is 0.9161\n"
     ]
    }
   ],
   "source": [
    "import math\n",
    "\n",
    "def poisson_cdf(mean, k):\n",
    "    cdf = 0\n",
    "    for i in range(k+1):\n",
    "        cdf += math.exp(-mean) * mean**i / math.factorial(i)\n",
    "    return cdf\n",
    "\n",
    "mean = 3\n",
    "k = 5\n",
    "cdf = poisson_cdf(mean, k)\n",
    "\n",
    "print(f\"The CDF of a Poisson distribution with mean {mean} at point {k} is {cdf:.4f}\")"
   ]
  },
  {
   "cell_type": "markdown",
   "metadata": {},
   "source": [
    "Q7. How Binomial distribution different from Poisson distribution?"
   ]
  },
  {
   "cell_type": "markdown",
   "metadata": {},
   "source": [
    "|Criteria|Binomial Distribution|Poisson Distribution|\n",
    "|---|---|---|\n",
    "|Definition|A discrete probability distribution that describes the number of successes in a fixed number of trials with a constant probability of success.|A discrete probability distribution that describes the number of times an event occurs in a fixed interval of time or space.|\n",
    "|Number of Trials|The number of trials is fixed.|The number of trials is not fixed.|\n",
    "|Probability|The probability of success is constant for all trials.|The probability of success is varies with each trial.|\n",
    "|Mean and Variance|The mean and variance increase as the number of trials increases.|The mean and variance are equal and proportional to the parameter λ.|\n",
    "|Assumptions|Assumes independence and that each trial is identical.|Assumes independence and that the events occur randomly in the given interval.|\n",
    "|Example|Tossing a coin 10 times and counting the number of heads.|Counting the number of cars that pass through a busy intersection in one hour.|"
   ]
  },
  {
   "cell_type": "markdown",
   "metadata": {},
   "source": [
    "Q8. Generate a random sample of size 1000 from a Poisson distribution with mean 5 and calculate the\n",
    "sample mean and variance."
   ]
  },
  {
   "cell_type": "code",
   "execution_count": 4,
   "metadata": {},
   "outputs": [
    {
     "name": "stdout",
     "output_type": "stream",
     "text": [
      "Sample mean: 4.966\n",
      "Sample variance: 5.111955955955955\n"
     ]
    }
   ],
   "source": [
    "import numpy as np\n",
    "\n",
    "# Generate a random sample of size 1000 from a Poisson distribution with mean 5\n",
    "sample = np.random.poisson(lam=5, size=1000)\n",
    "\n",
    "# Calculate the sample mean\n",
    "sample_mean = np.mean(sample)\n",
    "\n",
    "# Calculate the sample variance\n",
    "sample_var = np.var(sample, ddof=1)\n",
    "\n",
    "print(\"Sample mean:\", sample_mean)\n",
    "print(\"Sample variance:\", sample_var)\n"
   ]
  },
  {
   "cell_type": "markdown",
   "metadata": {},
   "source": [
    "Q9. How mean and variance are related in Binomial distribution and Poisson distribution?"
   ]
  },
  {
   "cell_type": "markdown",
   "metadata": {},
   "source": [
    "|Distribution|Mean|Variance|\n",
    "|---|---|---|\n",
    "|Binomial|np|np(1-p)|\n",
    "|Poisson|λ|λ|"
   ]
  },
  {
   "cell_type": "markdown",
   "metadata": {},
   "source": [
    "Q10. In normal distribution with respect to mean position, where does the least frequent data appear?"
   ]
  },
  {
   "cell_type": "markdown",
   "metadata": {},
   "source": [
    "    About 68% of the data falls within one standard deviation of the mean\n",
    "    About 95% of the data falls within two standard deviations of the mean\n",
    "    About 99.7% of the data falls within three standard deviations of the mean"
   ]
  }
 ],
 "metadata": {
  "kernelspec": {
   "display_name": "Python 3",
   "language": "python",
   "name": "python3"
  },
  "language_info": {
   "codemirror_mode": {
    "name": "ipython",
    "version": 3
   },
   "file_extension": ".py",
   "mimetype": "text/x-python",
   "name": "python",
   "nbconvert_exporter": "python",
   "pygments_lexer": "ipython3",
   "version": "3.6.5"
  }
 },
 "nbformat": 4,
 "nbformat_minor": 2
}
